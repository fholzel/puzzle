{
 "cells": [
  {
   "cell_type": "code",
   "execution_count": null,
   "metadata": {},
   "outputs": [],
   "source": [
    "import os\n",
    "import sys\n",
    "import numpy as np\n",
    "import copy as cp\n",
    "import matplotlib\n",
    "import functools\n",
    "# import imp\n",
    "import importlib\n",
    "import time\n",
    "import datetime\n",
    "import multiprocessing as mp\n",
    "from matplotlib import path    as path\n",
    "from matplotlib import pyplot  as plt\n",
    "from matplotlib import patches as patches\n",
    "from itertools  import product\n",
    "from skimage    import data\n",
    "from skimage    import io\n",
    "from skimage    import util\n",
    "from skimage    import img_as_float\n",
    "from skimage    import exposure\n",
    "from scipy      import signal  as signal\n",
    "from scipy      import misc    as misc\n",
    "from scipy      import ndimage as ndimage\n",
    "\n",
    "import cv2\n",
    "usecv2 = True\n",
    "\n",
    "import img_def\n",
    "importlib.reload(img_def)"
   ]
  },
  {
   "cell_type": "code",
   "execution_count": null,
   "metadata": {},
   "outputs": [],
   "source": [
    "path = os.getcwd()\n",
    "bwimorig = functools.partial(plt.imshow, vmin=0, vmax=255, cmap=plt.get_cmap('gray'))\n",
    "bwimgray = functools.partial(plt.imshow, vmin=0, vmax=2,   cmap=plt.get_cmap('gray'))\n",
    "bwimshow = functools.partial(plt.imshow, vmin=0, vmax=1,   cmap=plt.get_cmap('gray'))\n",
    "def plot_a_b(imagea, imageb, VMAXA=1, VMAXB=1):\n",
    "    plt.figure()\n",
    "    ax = plt.subplot(1,2,1)\n",
    "    bx = plt.subplot(1,2,2)\n",
    "    im = ax.imshow(imagea, vmin=0, vmax=VMAXA, cmap=plt.get_cmap('gray'))\n",
    "    im = bx.imshow(imageb, vmin=0, vmax=VMAXB, cmap=plt.get_cmap('gray'))\n",
    "    plt.tight_layout()\n",
    "    plt.show()"
   ]
  },
  {
   "cell_type": "code",
   "execution_count": null,
   "metadata": {},
   "outputs": [],
   "source": [
    "XXa = 360      # window center X\n",
    "YYa = 240      # window center Y\n",
    "A0a = XXa - 20  # window LL X\n",
    "A1a = XXa + 21  # window LL Y\n",
    "B0a = YYa - 20  # window UR X\n",
    "B1a = YYa + 21  # window UR Y\n",
    "XXb =  40\n",
    "YYb = 440\n",
    "A0b = XXb - 20  # window LL X\n",
    "A1b = XXb + 21  # window LL Y\n",
    "B0b = YYb - 20  # window UR X\n",
    "B1b = YYb + 21  # window UR Y\n",
    "ZB = 128      # upper limit for black\n",
    "ZW = 127      # lower limit for white\n",
    "BB = 0        # black\n",
    "WW = 255      # white\n",
    "A10a = A1a - A0a # window size X\n",
    "B10a = B1a - B0a # window size Y\n",
    "A10b = A1b - A0b # window size X\n",
    "B10b = B1b - B0b # window size Y\n",
    "if usecv2 == False:\n",
    "  image = data.load(path + \"\\small.bmp\")\n",
    "if usecv2 == True:\n",
    "  image = cv2.imread(path + \"\\small.bmp\", cv2.IMREAD_GRAYSCALE)\n",
    "X, Y = image.shape\n",
    "print(\"X : {} : Y : {}\".format(X, Y))\n",
    "image = np.pad(image,((20,20),(20,20)), 'constant', constant_values=255)\n",
    "X, Y = image.shape\n",
    "print(\"X : {} : Y : {}\".format(X, Y))"
   ]
  },
  {
   "cell_type": "code",
   "execution_count": null,
   "metadata": {},
   "outputs": [],
   "source": [
    "image = np.reshape(image,(1,X,Y))\n",
    "image = np.lib.pad(image,((0,100),(0,0),(0,0)),'constant', constant_values=0)\n",
    "smalla = image[:,A0a:A1a, B0a:B1a]\n",
    "smallb = image[:,A0b:A1b, B0b:B1b]\n",
    "index = 0\n",
    "Z, X, Y = image.shape\n",
    "print(\"Z : {} : X : {} : Y : {}\".format(Z, X, Y))"
   ]
  },
  {
   "cell_type": "code",
   "execution_count": null,
   "metadata": {},
   "outputs": [],
   "source": [
    "plt.figure()\n",
    "bwimorig(image[index])\n",
    "index+=1"
   ]
  },
  {
   "cell_type": "code",
   "execution_count": null,
   "metadata": {},
   "outputs": [],
   "source": [
    "index-=1\n",
    "plot_a_b(smalla[index], smallb[index], 255, 255)"
   ]
  },
  {
   "cell_type": "code",
   "execution_count": null,
   "metadata": {},
   "outputs": [],
   "source": [
    "t = np.linspace(-10, 10, 30)\n",
    "bump = np.exp(-0.1*t**2)\n",
    "bump /= np.trapz(bump)\n",
    "kernel = np.reshape(bump[:, np.newaxis] * bump[np.newaxis, :],(30,30))\n",
    "\n",
    "image_orig  = image[index] / 256.0\n",
    "image_blur  = ndimage.convolve(image_orig, kernel)\n",
    "image_sharp = np.clip(2 * image_orig - image_blur, 0, 1)\n",
    "image[index+1] = image_sharp * 255\n",
    "\n",
    "plot_a_b(image[index],    image[index+1],  255, 255)\n",
    "plot_a_b(smalla[index],   smallb[index],   255, 255)\n",
    "plot_a_b(smalla[index+1], smallb[index+1], 255, 255)\n",
    "index+=1"
   ]
  },
  {
   "cell_type": "code",
   "execution_count": null,
   "metadata": {},
   "outputs": [],
   "source": [
    "image[index+1] = img_def.img_filter_gray(image[index],ZB=128)\n",
    "plot_a_b(smalla[index+1], smallb[index+1])\n",
    "index+=1"
   ]
  },
  {
   "cell_type": "code",
   "execution_count": null,
   "metadata": {},
   "outputs": [],
   "source": [
    "image[index+1] = img_def.img_filter_one_black(image[index])\n",
    "plot_a_b(smalla[index+1], smallb[index+1])\n",
    "index+=1"
   ]
  },
  {
   "cell_type": "code",
   "execution_count": null,
   "metadata": {},
   "outputs": [],
   "source": [
    "image[index+1] = img_def.img_filter_one_edgeA(image[index])\n",
    "index+=1\n",
    "image[index+1] = img_def.img_filter_one_edgeA(image[index])\n",
    "index+=1\n",
    "plot_a_b(smalla[index], smallb[index])"
   ]
  },
  {
   "cell_type": "code",
   "execution_count": null,
   "metadata": {},
   "outputs": [],
   "source": [
    "image[index+1] = img_def.img_filter_one_edgeB(image[index])\n",
    "index+=1\n",
    "image[index+1] = img_def.img_filter_one_edgeB(image[index])\n",
    "index+=1\n",
    "plot_a_b(smalla[index], smallb[index])"
   ]
  },
  {
   "cell_type": "code",
   "execution_count": null,
   "metadata": {},
   "outputs": [],
   "source": [
    "image[index+1] = img_def.img_filter_one_fillA(image[index])\n",
    "index+=1\n",
    "image[index+1] = img_def.img_filter_one_fillA(image[index])\n",
    "index+=1\n",
    "plot_a_b(smalla[index], smallb[index])"
   ]
  },
  {
   "cell_type": "code",
   "execution_count": null,
   "metadata": {},
   "outputs": [],
   "source": [
    "image[index+1] = img_def.img_filter_one_fillB(image[index])\n",
    "index+=1\n",
    "image[index+1] = img_def.img_filter_one_fillB(image[index])\n",
    "index+=1\n",
    "plot_a_b(smalla[index], smallb[index])"
   ]
  },
  {
   "cell_type": "code",
   "execution_count": null,
   "metadata": {},
   "outputs": [],
   "source": [
    "image[index+1] = img_def.img_filter_one_fillB(image[index])\n",
    "index+=1\n",
    "image[index+1] = img_def.img_filter_one_fillB(image[index])\n",
    "index+=1\n",
    "plot_a_b(smalla[index], smallb[index])"
   ]
  },
  {
   "cell_type": "code",
   "execution_count": null,
   "metadata": {},
   "outputs": [],
   "source": [
    "image[index+1] = img_def.img_filter_one_fillC(image[index])\n",
    "index+=1\n",
    "image[index+1] = img_def.img_filter_one_fillC(image[index])\n",
    "index+=1\n",
    "plot_a_b(smalla[index], smallb[index])"
   ]
  },
  {
   "cell_type": "code",
   "execution_count": null,
   "metadata": {},
   "outputs": [],
   "source": [
    "image[index+1] = img_def.img_filter_one_edgeA(image[index])\n",
    "index+=1\n",
    "image[index+1] = img_def.img_filter_one_edgeA(image[index])\n",
    "index+=1\n",
    "plot_a_b(smalla[index], smallb[index])"
   ]
  },
  {
   "cell_type": "code",
   "execution_count": null,
   "metadata": {},
   "outputs": [],
   "source": [
    "image[index+1] = img_def.img_filter_one_edgeB(image[index])\n",
    "index+=1\n",
    "image[index+1] = img_def.img_filter_one_edgeB(image[index])\n",
    "index+=1\n",
    "plot_a_b(smalla[index], smallb[index])"
   ]
  },
  {
   "cell_type": "code",
   "execution_count": null,
   "metadata": {},
   "outputs": [],
   "source": [
    "image[index+1] = img_def.img_filter_one_fillD(image[index])\n",
    "index+=1\n",
    "image[index+1] = img_def.img_filter_one_fillD(image[index])\n",
    "index+=1\n",
    "plot_a_b(smalla[index], smallb[index])"
   ]
  },
  {
   "cell_type": "code",
   "execution_count": null,
   "metadata": {},
   "outputs": [],
   "source": [
    "image[index+1] = img_def.img_filter_one_fillE(image[index])\n",
    "index+=1\n",
    "image[index+1] = img_def.img_filter_one_fillE(image[index])\n",
    "index+=1\n",
    "plot_a_b(smalla[index], smallb[index])"
   ]
  },
  {
   "cell_type": "code",
   "execution_count": null,
   "metadata": {},
   "outputs": [],
   "source": [
    "image[index+1] = img_def.img_filter_two_edgeA(image[index])\n",
    "index+=1\n",
    "image[index+1] = img_def.img_filter_two_edgeA(image[index])\n",
    "index+=1\n",
    "plot_a_b(smalla[index], smallb[index])"
   ]
  },
  {
   "cell_type": "code",
   "execution_count": null,
   "metadata": {},
   "outputs": [],
   "source": [
    "image[index+1] = 0 + image[index]\n",
    "image[index+2] = 1 - image[index]"
   ]
  },
  {
   "cell_type": "code",
   "execution_count": null,
   "metadata": {},
   "outputs": [],
   "source": [
    "bwimshow(image[index+1])"
   ]
  },
  {
   "cell_type": "code",
   "execution_count": null,
   "metadata": {},
   "outputs": [],
   "source": [
    "bwimshow(image[index+2])"
   ]
  },
  {
   "cell_type": "code",
   "execution_count": null,
   "metadata": {},
   "outputs": [],
   "source": [
    "start_list = [0,5,10,15]\n",
    "for start in start_list:\n",
    "    img_def.img_filter_line_edgeA(image[index+1], image[index+2], 1, start=start, AB=20, method=['4S'])\n",
    "plot_a_b(smalla[index+1], smallb[index+1])"
   ]
  },
  {
   "cell_type": "code",
   "execution_count": null,
   "metadata": {},
   "outputs": [],
   "source": [
    "start_list = [0,5]\n",
    "for start in start_list:\n",
    "    img_def.img_filter_line_edgeA(image[index+1], image[index+2], 1, start=start, AB=10, method=['HH', 'VV'])\n",
    "start_list = [0,5,10,15]\n",
    "for start in start_list:\n",
    "    img_def.img_filter_line_edgeA(image[index+1], image[index+2], 1, start=start, AB=20, method=['HH', 'VV'])\n",
    "plot_a_b(smalla[index+1], smallb[index+1])"
   ]
  },
  {
   "cell_type": "code",
   "execution_count": null,
   "metadata": {},
   "outputs": [],
   "source": [
    "start_list = [0,5]\n",
    "for start in start_list:\n",
    "    img_def.img_filter_line_edgeA(image[index+1], image[index+2], 1, start=start, AB=10, method=['TL', 'BL', 'RT', 'BR'])\n",
    "#start_list = [0,5,10,15]\n",
    "#for start in start_list:\n",
    "#    img_def.img_filter_line_edgeA(image[index+1], image[index+2], 1, start=start, AB=20, method=['TL', 'BL', 'RT', 'BR'])\n",
    "plot_a_b(smalla[index+1], smallb[index+1])"
   ]
  },
  {
   "cell_type": "code",
   "execution_count": null,
   "metadata": {
    "scrolled": true
   },
   "outputs": [],
   "source": [
    "plot_a_b(image[index+1,20:60,20:60], image[index+1,120:200,20:100])"
   ]
  },
  {
   "cell_type": "code",
   "execution_count": null,
   "metadata": {},
   "outputs": [],
   "source": [
    "plot_a_b(image[index+2,20:60,20:60], image[index+2,120:200,20:100])"
   ]
  },
  {
   "cell_type": "code",
   "execution_count": null,
   "metadata": {
    "scrolled": true
   },
   "outputs": [],
   "source": [
    "plot_a_b(image[0], image[index+2], 255, 1)"
   ]
  },
  {
   "cell_type": "code",
   "execution_count": null,
   "metadata": {},
   "outputs": [],
   "source": [
    "plot_a_b(image[0,700:740,130:170], image[index+2,700:740,130:170], 255, 1)"
   ]
  },
  {
   "cell_type": "code",
   "execution_count": null,
   "metadata": {},
   "outputs": [],
   "source": [
    "cntww,cntbb = [(image[index+2]==cnt).sum() for cnt in (0,1)]\n",
    "print(cntww, cntbb)"
   ]
  },
  {
   "cell_type": "code",
   "execution_count": null,
   "metadata": {},
   "outputs": [],
   "source": [
    "plot_a_b(smalla[index+2], smallb[index+2])"
   ]
  },
  {
   "cell_type": "code",
   "execution_count": null,
   "metadata": {},
   "outputs": [],
   "source": [
    "plot_a_b(image[index+1,20:60,20:60], image[index+1,120:200,20:100])"
   ]
  },
  {
   "cell_type": "code",
   "execution_count": null,
   "metadata": {},
   "outputs": [],
   "source": [
    "image[index+3] = image[index+1] + 0\n",
    "image[index+4] = image[index+2] + 0\n",
    "start_list = [15]\n",
    "for start in start_list:\n",
    "    img_def.img_filter_line_edgeA(image[index+3], image[index+4], 1, start=start, AB=20, method=['TL', 'BL', 'RT', 'BR'])\n",
    "plot_a_b(image[index+1,20:60,20:60], image[index+3,20:60,20:60])"
   ]
  },
  {
   "cell_type": "code",
   "execution_count": null,
   "metadata": {},
   "outputs": [],
   "source": [
    "start = 15\n",
    "AB=20\n",
    "AB2=10\n",
    "x=35\n",
    "y=35\n",
    "bl,br,at,ab = (y-AB2,y+AB2,x-AB2,x+AB2)\n",
    "resultb = np.nonzero(image[index+1,ab,y - AB2:y + AB2+1])[0]\n",
    "resultr = np.nonzero(image[index+1,x - AB2:x + AB2+1,br])[0]\n",
    "flagr,xra,xrb,dxra,dxrb = img_def.img_filter_line_edge_side(resultr,x-AB2,AB)\n",
    "flagb,yba,ybb,dyba,dybb = img_def.img_filter_line_edge_side(resultb,y-AB2,AB)\n",
    "print(resultr)\n",
    "print(resultb)\n",
    "print(flagr,xra,xrb,dxra,dxrb)\n",
    "print(flagb,yba,ybb,dyba,dybb)\n",
    "vertices_list = []\n",
    "vertices_list.append(np.array([[ab,yba], [ab,ybb], [xra,br], [xrb,br]]))\n",
    "print(vertices_list)\n",
    "print                                              (image[index+1,x-AB2:x+AB2+1,y-AB2:y+AB2+1])\n",
    "sumbr,sumtr,sumtl,sumbl=img_def.img_filter_box_edge(image[index+1,x-AB2:x+AB2+1,y-AB2:y+AB2+1], AB)\n",
    "print(sumbr,sumtr,sumtl,sumbl)\n",
    "print([x-AB2,x+AB2+1,y-AB2,y+AB2+1])"
   ]
  },
  {
   "cell_type": "code",
   "execution_count": null,
   "metadata": {},
   "outputs": [],
   "source": [
    "print(xra,xrb)\n",
    "xra,xrb = (xra-0,xrb+1) if ((xrb-xra)%2==1) else (xra-0,xrb+0)\n",
    "print(xra,xrb)\n",
    "dxr = max(int((xrb - xra) / 2 - 2), 0)\n",
    "print(dxr)\n",
    "xra,xrb = (xra+dxr,xrb-dxr)\n",
    "print(xra,xrb)"
   ]
  },
  {
   "cell_type": "code",
   "execution_count": null,
   "metadata": {},
   "outputs": [],
   "source": []
  }
 ],
 "metadata": {
  "kernelspec": {
   "display_name": "Python 3 (ipykernel)",
   "language": "python",
   "name": "python3"
  },
  "language_info": {
   "codemirror_mode": {
    "name": "ipython",
    "version": 3
   },
   "file_extension": ".py",
   "mimetype": "text/x-python",
   "name": "python",
   "nbconvert_exporter": "python",
   "pygments_lexer": "ipython3",
   "version": "3.9.13"
  }
 },
 "nbformat": 4,
 "nbformat_minor": 2
}
